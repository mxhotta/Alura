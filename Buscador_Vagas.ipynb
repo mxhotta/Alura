{
  "nbformat": 4,
  "nbformat_minor": 0,
  "metadata": {
    "colab": {
      "provenance": [],
      "include_colab_link": true
    },
    "kernelspec": {
      "name": "python3",
      "display_name": "Python 3"
    },
    "language_info": {
      "name": "python"
    }
  },
  "cells": [
    {
      "cell_type": "markdown",
      "metadata": {
        "id": "view-in-github",
        "colab_type": "text"
      },
      "source": [
        "<a href=\"https://colab.research.google.com/github/mxhotta/Alura/blob/main/Buscador_Vagas.ipynb\" target=\"_parent\"><img src=\"https://colab.research.google.com/assets/colab-badge.svg\" alt=\"Open In Colab\"/></a>"
      ]
    },
    {
      "cell_type": "code",
      "source": [
        "%pip -q install google-genai"
      ],
      "metadata": {
        "id": "UCCbECexLk_h"
      },
      "execution_count": null,
      "outputs": []
    },
    {
      "cell_type": "code",
      "source": [
        "# Configura a API Key do Google Gemini\n",
        "\n",
        "import os\n",
        "from google.colab import userdata\n",
        "\n",
        "os.environ[\"GOOGLE_API_KEY\"] = userdata.get('GOOGLE_API_KEY')"
      ],
      "metadata": {
        "id": "NfCqHo1tLk8P"
      },
      "execution_count": null,
      "outputs": []
    },
    {
      "cell_type": "code",
      "source": [
        "# Configura o cliente da SDK do Gemini\n",
        "\n",
        "from google import genai\n",
        "\n",
        "client = genai.Client()\n",
        "\n",
        "MODEL_ID = \"gemini-2.0-flash\""
      ],
      "metadata": {
        "id": "bV4w0H5TLk5g"
      },
      "execution_count": null,
      "outputs": []
    },
    {
      "cell_type": "code",
      "source": [
        "# Instalar Framework de agentes do Google ################################################\n",
        "!pip install -q google-adk"
      ],
      "metadata": {
        "id": "a1eRPalxEnj7",
        "collapsed": true
      },
      "execution_count": null,
      "outputs": []
    },
    {
      "cell_type": "code",
      "execution_count": null,
      "metadata": {
        "id": "aePV2bdfDeoW"
      },
      "outputs": [],
      "source": [
        "from google.adk.agents import Agent\n",
        "from google.adk.runners import Runner\n",
        "from google.adk.sessions import InMemorySessionService\n",
        "from google.adk.tools import google_search\n",
        "from google.genai import types\n",
        "from datetime import date\n",
        "import textwrap\n",
        "from IPython.display import display, Markdown\n",
        "import requests\n",
        "import warnings\n",
        "\n",
        "warnings.filterwarnings(\"ignore\")"
      ]
    },
    {
      "cell_type": "code",
      "source": [
        "# Função auxiliar que envia uma mensagem para um agente via Runner e retorna a resposta final\n",
        "def call_agent(agent: Agent, message_text: str) -> str:\n",
        "    # Cria um serviço de sessão em memória\n",
        "    session_service = InMemorySessionService()\n",
        "    # Cria uma nova sessão (você pode personalizar os IDs conforme necessário)\n",
        "    session = session_service.create_session(app_name=agent.name, user_id=\"user1\", session_id=\"session1\")\n",
        "    # Cria um Runner para o agente\n",
        "    runner = Runner(agent=agent, app_name=agent.name, session_service=session_service)\n",
        "    # Cria o conteúdo da mensagem de entrada\n",
        "    content = types.Content(role=\"user\", parts=[types.Part(text=message_text)])\n",
        "\n",
        "    final_response = \"\"\n",
        "    # Itera assincronamente pelos eventos retornados durante a execução do agente\n",
        "    for event in runner.run(user_id=\"user1\", session_id=\"session1\", new_message=content):\n",
        "        if event.is_final_response():\n",
        "          for part in event.content.parts:\n",
        "            if part.text is not None:\n",
        "              final_response += part.text\n",
        "              final_response += \"\\n\"\n",
        "    return final_response"
      ],
      "metadata": {
        "id": "_xP4lWhsS5ko"
      },
      "execution_count": null,
      "outputs": []
    },
    {
      "cell_type": "code",
      "source": [
        "# Função auxiliar para exibir texto formatado em Markdown no Colab\n",
        "from IPython.display import HTML, Markdown\n",
        "def to_markdown(text):\n",
        "  text = text.replace('•', '  *')\n",
        "  return Markdown(textwrap.indent(text, '> ', predicate=lambda _: True))"
      ],
      "metadata": {
        "id": "8dosiodaxfFR"
      },
      "execution_count": null,
      "outputs": []
    },
    {
      "cell_type": "code",
      "source": [
        "##########################################\n",
        "##########################################\n",
        "\n",
        "# Agente de busca de vagas\n",
        "\n",
        "##########################################\n",
        "##########################################\n",
        "def ag_busca(data_de_hoje,cidade,distancia, area_atuacao):\n",
        "\n",
        "    busca_vagas = Agent(\n",
        "        name=\"ag_buscador\",\n",
        "        model=\"gemini-2.0-flash\",\n",
        "        instruction=\"\"\"\n",
        "        Voce é um buscador de email de contatos de empresas, baseado na localização inserida pelo usuário. Utilize o google maps para\n",
        "        localizar os sites e os emails de contato. Deverá trazer 5 empresas na pesquisa\n",
        "        os criterios da pesquisa serão os seguintes:\n",
        "\n",
        "        1- Distancia máxima da cidade passada pelo usuário. Esta distancia máxima será informada\n",
        "        2- área de atuação da empresa(exemplo: industria)\n",
        "        3- Porte de empresa.Empresas maiores terão preferencia\n",
        "        4- A preferência para o email de contato é o de recrutamento, RH ou recursos humanos. Caso não tenha, utilize o email que encontrar\n",
        "        5- Ordenar com as mais próximas da cidade do usuario em primeiro\n",
        "\n",
        "        A saída dos dados, deverá ser uma lista com o seguinte formato:\n",
        "        Nome da empresa: \\n\n",
        "        Cidade: \\n\n",
        "        Área de atuação: \\n\n",
        "        Email de contato: \\n\n",
        "        Telefone para contato: \\n\n",
        "        site da empresa: \\n\n",
        "\n",
        "        use um separador para separar as empresas (\\n***************************\\n)\n",
        "        não dê informações adicionais, apenas os dados solicitados.\n",
        "\n",
        "        \"\"\",\n",
        "        description=\"Agente que busca as vagas no google\",\n",
        "\n",
        "    )\n",
        "\n",
        "    entrada_do_agente_buscador = f\"Data de hoje: {data_de_hoje}\\nCidade: {cidade}\\nDistância máxima: {distancia}\\nÁrea de atuação: {area_atuacao}\"\n",
        "\n",
        "    vagas_iniciais = call_agent(busca_vagas, entrada_do_agente_buscador)\n",
        "    return vagas_iniciais"
      ],
      "metadata": {
        "id": "o8bqIfi_DyH8"
      },
      "execution_count": null,
      "outputs": []
    },
    {
      "cell_type": "code",
      "source": [
        "##########################################\n",
        "##########################################\n",
        "\n",
        "# Agente redator de email\n",
        "\n",
        "##########################################\n",
        "##########################################\n",
        "\n",
        "def ag_redator(empresas,empresas_selecionadas,nome_completo,idade,email,telefone,grau_escolaridade,formacao,competencias,vaga_pretendida,observacoes):\n",
        "    redator_emails = Agent(\n",
        "        name=\"ag_redator\",\n",
        "        model=\"gemini-2.0-flash\",\n",
        "        instruction=\"\"\"\n",
        "        Você é um redator de emails profissionais, para pessoas buscando colocação no mercado de trabalho.\n",
        "        vão ser passadas 3 empresas separadas por virgulas de empresas para você redigir uma apresentação do usuário.Cada email deve ser utilizado palavras diferentes.\n",
        "        Informar que em anexo segue  curriculo do usuário.\n",
        "        Utilize um tom formal.\n",
        "        Você deve utilizar no corpo no email:\n",
        "\n",
        "        Nome completo do usuario,idade,grau de escolaridade, formação, competencias,vaga pretendida e observações.\n",
        "        No final do email colocar o nome do usuario e logo abaixo email e telefone, no formato (xx)xxxx-xxxx\n",
        "\n",
        "        Use um separador para separar os 3 emails (\\n***************************\\n)\n",
        "        \"\"\",\n",
        "        description=\"Agente redator de emails\"\n",
        "    )\n",
        "    entrada_do_agente_redator = f\"Empresas: {empresas}\\nEmpresas selecionadas: {empresas_selecionadas}\\nNome Completo: {nome_completo}\\nIdade: {idade}\\nEmail: {email}\\nTelefone: {telefone}\\\n",
        "    \\nGrau de Escolaridade: {grau_escolaridade}\\nFormação: {formacao}\\nCompetências: {competencias}\\nVaga Pretendida: {vaga_pretendida}\\nObservações: {observacoes}\"\n",
        "\n",
        "    emails = call_agent(redator_emails, entrada_do_agente_redator)\n",
        "    return emails"
      ],
      "metadata": {
        "id": "uOqlg2TRLVh1"
      },
      "execution_count": null,
      "outputs": []
    },
    {
      "cell_type": "code",
      "source": [
        "##########################################\n",
        "##########################################\n",
        "\n",
        "# Interface com usuário e execução\n",
        "\n",
        "##########################################\n",
        "##########################################\n",
        "\n",
        "data_de_hoje = date.today().strftime(\"%d/%m/%Y\")\n",
        "\n",
        "print(\"Buscador de vagas\\n\")\n",
        "\n",
        "### Input dos dados de pesquisa\n",
        "cidade = input(\"Digite a cidade:  \\n\")\n",
        "distancia = input(\"Distância máxima de sua cidade:  \\n\")\n",
        "area_atuacao = input(\"Área de atuação?:  \\n\")\n",
        "\n",
        "\n",
        "### Verifica se todos os campos estão preenchidos, e executa caso ok\n",
        "if not cidade or not distancia or not area_atuacao:\n",
        "    print(\"Todos os campos devem ser preenchidos\\n\")\n",
        "else:\n",
        "    print(f\"Aguarde, buscando vagas até {distancia} de {cidade}...\")\n",
        "\n",
        "    empresas = ag_busca(data_de_hoje,cidade,distancia,area_atuacao)\n",
        "\n",
        "    display(to_markdown(empresas))\n",
        "    print(\"--------------------------------------------------------------\")\n",
        "\n",
        "\n",
        "\n",
        "### Solicita ao usuário que selecione 3 empresas\n",
        "print(f\"Selecione 3 empresas que mais lhe interessam.\\nSepare cada uma por virgula: \")\n",
        "empresas_selecionadas = input(\"Empresas:  \\n\")\n",
        "\n",
        "### Após empresas selecionadas, pega dados do usuário\n",
        "print(f\"Insira seus dados para\\n redigirmos seus emails \")\n",
        "\n",
        "### Input dos dados do usuário\n",
        "nome_completo = input(\"Nome completo: \\n\")\n",
        "idade = input(\"Idade: \\n\")\n",
        "email = input(\"Email: \\n\")\n",
        "telefone = input(\"Telefone: \\n\")\n",
        "grau_escolaridade = input(\"Grau de escolaridade: \\n\")\n",
        "formacao = input(\"Formação: \\n\")\n",
        "competencias = input(\"Competências: \\n\")\n",
        "vaga_pretendida = input(\"Vaga que você está buscando: \\n\")\n",
        "observacoes = input(\"Fale sobre seu perfil profissional: \\n\")\n",
        "\n",
        "if not nome_completo or not idade or not email or not telefone or not grau_escolaridade or not formacao or not competencias or not vaga_pretendida or not observacoes:\n",
        "    print(\"Todos os campos devem ser preenchidos\\n\")\n",
        "\n",
        "else:\n",
        "    print(f\"Aguarde,redigindo emails para {nome_completo}....\\n\")\n",
        "\n",
        "    emails = ag_redator(empresas,empresas_selecionadas,nome_completo,idade,email,telefone,grau_escolaridade,formacao,competencias,vaga_pretendida,observacoes)\n",
        "\n",
        "    display(to_markdown(emails))\n",
        "    print(\"--------------------------------------------------------------\")\n"
      ],
      "metadata": {
        "id": "6xzI6LKzxxnN"
      },
      "execution_count": null,
      "outputs": []
    }
  ]
}